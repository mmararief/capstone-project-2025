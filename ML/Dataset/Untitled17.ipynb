{
  "nbformat": 4,
  "nbformat_minor": 0,
  "metadata": {
    "colab": {
      "provenance": []
    },
    "kernelspec": {
      "name": "python3",
      "display_name": "Python 3"
    },
    "language_info": {
      "name": "python"
    }
  },
  "cells": [
    {
      "cell_type": "code",
      "execution_count": 1,
      "metadata": {
        "colab": {
          "base_uri": "https://localhost:8080/"
        },
        "id": "8dIgWQ6xZNRF",
        "outputId": "66609c64-3bad-4c6c-fd44-73fca18c84b4"
      },
      "outputs": [
        {
          "output_type": "stream",
          "name": "stdout",
          "text": [
            "Data berhasil dirapikan dan disimpan ke 'tourism_rating_cleaned.csv'\n"
          ]
        }
      ],
      "source": [
        "import pandas as pd\n",
        "\n",
        "# Baca data dari file formulir\n",
        "file_path = 'Formulir tanpa judul (Jawaban) - Tourism Rating.csv'\n",
        "df = pd.read_csv(file_path)\n",
        "\n",
        "# Hapus kolom timestamp jika ada\n",
        "if 'Timestamp' in df.columns:\n",
        "    df = df.drop(columns=['Timestamp'])\n",
        "\n",
        "# Ganti nama kolom menjadi Place_Id berupa angka\n",
        "df.columns = [f\"{i+1}\" for i in range(len(df.columns))]\n",
        "\n",
        "# Inisialisasi list untuk menyimpan data terstruktur\n",
        "data_rapi = []\n",
        "\n",
        "# Loop setiap baris dan kolom\n",
        "for user_id, row in enumerate(df.itertuples(index=False), start=1):\n",
        "    for place_id, rating in zip(df.columns, row):\n",
        "        if pd.notna(rating):  # jika rating tidak kosong\n",
        "            data_rapi.append({\n",
        "                'User_Id': user_id,\n",
        "                'Place_Id': int(place_id),\n",
        "                'Place_Ratings': rating\n",
        "            })\n",
        "\n",
        "# Buat DataFrame akhir\n",
        "df_rapi = pd.DataFrame(data_rapi)\n",
        "\n",
        "# Simpan ke CSV\n",
        "df_rapi.to_csv('tourism_rating_cleaned.csv', index=False)\n",
        "\n",
        "print(\"Data berhasil dirapikan dan disimpan ke 'tourism_rating_cleaned.csv'\")\n"
      ]
    }
  ]
}